{
 "cells": [
  {
   "cell_type": "code",
   "execution_count": 12,
   "metadata": {},
   "outputs": [],
   "source": [
    "import matplotlib.pyplot as plt\n",
    "import pandas as pd\n",
    "from pandas import DataFrame\n",
    "import math\n",
    "import numpy as np"
   ]
  },
  {
   "cell_type": "code",
   "execution_count": 13,
   "metadata": {},
   "outputs": [],
   "source": [
    "df = DataFrame({'Sr. No.': [1, 2],\n",
    "               'Weight placed on Pan(KG)': [0.6, 0.8],\n",
    "               'Total Weight (KG)': [1.158, 1.358],\n",
    "               'Actual Force (N)': [11.34, 13.32],\n",
    "               'Initial Tamk level': [10, 6.8],\n",
    "               'Final Tank Level': [26.5, 29.3],\n",
    "               'Change in Water Level(m)': [0.165, 0.175],\n",
    "               'Time of Collection(s)': [10, 10],\n",
    "               'Discharge(Q)': [0.001031, 0.001093],\n",
    "               'Velocity of Jet(m/s)[v]':[20.74, 23.35],\n",
    "               'Theoritical Force(N)[fx]': [20.6181, 36],\n",
    "               'Force Coefficient(k)': [0.55, 0.37],\n",
    "               'ln(v)': [3.02, 3.08],\n",
    "               'ln(k)': [-0.59, -0.56],\n",
    "               'ln(fx)': [3.03, 3.15]})"
   ]
  },
  {
   "cell_type": "code",
   "execution_count": 14,
   "metadata": {},
   "outputs": [
    {
     "data": {
      "text/html": [
       "<div>\n",
       "<style scoped>\n",
       "    .dataframe tbody tr th:only-of-type {\n",
       "        vertical-align: middle;\n",
       "    }\n",
       "\n",
       "    .dataframe tbody tr th {\n",
       "        vertical-align: top;\n",
       "    }\n",
       "\n",
       "    .dataframe thead th {\n",
       "        text-align: right;\n",
       "    }\n",
       "</style>\n",
       "<table border=\"1\" class=\"dataframe\">\n",
       "  <thead>\n",
       "    <tr style=\"text-align: right;\">\n",
       "      <th></th>\n",
       "      <th>Sr. No.</th>\n",
       "      <th>Weight placed on Pan(KG)</th>\n",
       "      <th>Total Weight (KG)</th>\n",
       "      <th>Actual Force (N)</th>\n",
       "      <th>Initial Tamk level</th>\n",
       "      <th>Final Tank Level</th>\n",
       "      <th>Change in Water Level(m)</th>\n",
       "      <th>Time of Collection(s)</th>\n",
       "      <th>Discharge(Q)</th>\n",
       "      <th>Velocity of Jet(m/s)[v]</th>\n",
       "      <th>Theoritical Force(N)[fx]</th>\n",
       "      <th>Force Coefficient(k)</th>\n",
       "      <th>ln(v)</th>\n",
       "      <th>ln(k)</th>\n",
       "      <th>ln(fx)</th>\n",
       "    </tr>\n",
       "  </thead>\n",
       "  <tbody>\n",
       "    <tr>\n",
       "      <th>0</th>\n",
       "      <td>1</td>\n",
       "      <td>0.6</td>\n",
       "      <td>1.158</td>\n",
       "      <td>11.34</td>\n",
       "      <td>10.0</td>\n",
       "      <td>26.5</td>\n",
       "      <td>0.165</td>\n",
       "      <td>10</td>\n",
       "      <td>0.001031</td>\n",
       "      <td>20.74</td>\n",
       "      <td>20.6181</td>\n",
       "      <td>0.55</td>\n",
       "      <td>3.02</td>\n",
       "      <td>-0.59</td>\n",
       "      <td>3.03</td>\n",
       "    </tr>\n",
       "    <tr>\n",
       "      <th>1</th>\n",
       "      <td>2</td>\n",
       "      <td>0.8</td>\n",
       "      <td>1.358</td>\n",
       "      <td>13.32</td>\n",
       "      <td>6.8</td>\n",
       "      <td>29.3</td>\n",
       "      <td>0.175</td>\n",
       "      <td>10</td>\n",
       "      <td>0.001093</td>\n",
       "      <td>23.35</td>\n",
       "      <td>36.0000</td>\n",
       "      <td>0.37</td>\n",
       "      <td>3.08</td>\n",
       "      <td>-0.56</td>\n",
       "      <td>3.15</td>\n",
       "    </tr>\n",
       "  </tbody>\n",
       "</table>\n",
       "</div>"
      ],
      "text/plain": [
       "   Sr. No.  Weight placed on Pan(KG)  Total Weight (KG)  Actual Force (N)  \\\n",
       "0        1                       0.6              1.158             11.34   \n",
       "1        2                       0.8              1.358             13.32   \n",
       "\n",
       "   Initial Tamk level  Final Tank Level  Change in Water Level(m)  \\\n",
       "0                10.0              26.5                     0.165   \n",
       "1                 6.8              29.3                     0.175   \n",
       "\n",
       "   Time of Collection(s)  Discharge(Q)  Velocity of Jet(m/s)[v]  \\\n",
       "0                     10      0.001031                    20.74   \n",
       "1                     10      0.001093                    23.35   \n",
       "\n",
       "   Theoritical Force(N)[fx]  Force Coefficient(k)  ln(v)  ln(k)  ln(fx)  \n",
       "0                   20.6181                  0.55   3.02  -0.59    3.03  \n",
       "1                   36.0000                  0.37   3.08  -0.56    3.15  "
      ]
     },
     "execution_count": 14,
     "metadata": {},
     "output_type": "execute_result"
    }
   ],
   "source": [
    "df"
   ]
  },
  {
   "cell_type": "code",
   "execution_count": 15,
   "metadata": {},
   "outputs": [],
   "source": [
    "fx = df['Theoritical Force(N)[fx]']\n",
    "v = df['Velocity of Jet(m/s)[v]']\n",
    "k = df['Force Coefficient(k)']\n",
    "lnfx = np.log(fx)\n",
    "lnk = np.log(k)\n",
    "lnv = np.log(v)\n"
   ]
  },
  {
   "cell_type": "code",
   "execution_count": 16,
   "metadata": {},
   "outputs": [
    {
     "data": {
      "text/plain": [
       "0    3.026169\n",
       "1    3.583519\n",
       "Name: Theoritical Force(N)[fx], dtype: float64"
      ]
     },
     "execution_count": 16,
     "metadata": {},
     "output_type": "execute_result"
    }
   ],
   "source": [
    "lnfx"
   ]
  },
  {
   "cell_type": "code",
   "execution_count": 17,
   "metadata": {},
   "outputs": [
    {
     "data": {
      "text/plain": [
       "0   -0.597837\n",
       "1   -0.994252\n",
       "Name: Force Coefficient(k), dtype: float64"
      ]
     },
     "execution_count": 17,
     "metadata": {},
     "output_type": "execute_result"
    }
   ],
   "source": [
    "lnk"
   ]
  },
  {
   "cell_type": "code",
   "execution_count": 25,
   "metadata": {},
   "outputs": [
    {
     "name": "stdout",
     "output_type": "stream",
     "text": [
      "\u001b[1mGRAPH: THEORITICAL FORCE VS. JET VELOCITY\n"
     ]
    },
    {
     "data": {
      "text/plain": [
       "[<matplotlib.lines.Line2D at 0x1cfaf6d4be0>]"
      ]
     },
     "execution_count": 25,
     "metadata": {},
     "output_type": "execute_result"
    },
    {
     "data": {
      "image/png": "[encoded data removed]",
      "text/plain": [
       "<Figure size 432x288 with 1 Axes>"
      ]
     },
     "metadata": {},
     "output_type": "display_data"
    }
   ],
   "source": [
    "print('\\033[1m' + 'GRAPH: THEORITICAL FORCE VS. JET VELOCITY')\n",
    "plt.plot(fx, v)\n",
    "\n",
    "\n"
   ]
  },
  {
   "cell_type": "code",
   "execution_count": 27,
   "metadata": {},
   "outputs": [
    {
     "name": "stdout",
     "output_type": "stream",
     "text": [
      "\u001b[1m______________________________________________________\n",
      "\u001b[1m______________________________________________________\n",
      "\u001b[1m______________________________________________________\n"
     ]
    }
   ],
   "source": [
    "print('\\033[1m' + '______________________________________________________')\n",
    "print('\\033[1m' + '______________________________________________________')\n",
    "print('\\033[1m' + '______________________________________________________')"
   ]
  },
  {
   "cell_type": "code",
   "execution_count": 28,
   "metadata": {},
   "outputs": [
    {
     "name": "stdout",
     "output_type": "stream",
     "text": [
      "\u001b[1mGRAPH: THEORITICAL FORCE VS. JET VELOCITY\n"
     ]
    },
    {
     "data": {
      "text/plain": [
       "[<matplotlib.lines.Line2D at 0x1cfaf70f2b0>]"
      ]
     },
     "execution_count": 28,
     "metadata": {},
     "output_type": "execute_result"
    },
    {
     "data": {
      "image/png": "[encoded data removed]",
      "text/plain": [
       "<Figure size 432x288 with 1 Axes>"
      ]
     },
     "metadata": {},
     "output_type": "display_data"
    }
   ],
   "source": [
    "print('\\033[1m' + 'GRAPH: THEORITICAL FORCE VS. JET VELOCITY')\n",
    "plt.plot(lnfx, lnv)\n",
    "\n",
    "\n"
   ]
  },
  {
   "cell_type": "code",
   "execution_count": 29,
   "metadata": {},
   "outputs": [
    {
     "name": "stdout",
     "output_type": "stream",
     "text": [
      "\u001b[1m______________________________________________________\n",
      "\u001b[1m______________________________________________________\n",
      "\u001b[1m______________________________________________________\n"
     ]
    }
   ],
   "source": [
    "print('\\033[1m' + '______________________________________________________')\n",
    "print('\\033[1m' + '______________________________________________________')\n",
    "print('\\033[1m' + '______________________________________________________')"
   ]
  },
  {
   "cell_type": "code",
   "execution_count": 30,
   "metadata": {},
   "outputs": [
    {
     "name": "stdout",
     "output_type": "stream",
     "text": [
      "\u001b[1mGRAPH: THEORITICAL FORCE VS. JET VELOCITY\n"
     ]
    },
    {
     "data": {
      "text/plain": [
       "[<matplotlib.lines.Line2D at 0x1cfaf73da58>]"
      ]
     },
     "execution_count": 30,
     "metadata": {},
     "output_type": "execute_result"
    },
    {
     "data": {
      "image/png": "[encoded data removed]",
      "text/plain": [
       "<Figure size 432x288 with 1 Axes>"
      ]
     },
     "metadata": {},
     "output_type": "display_data"
    }
   ],
   "source": [
    "print('\\033[1m' + 'GRAPH: THEORITICAL FORCE VS. JET VELOCITY')\n",
    "plt.plot(lnk, lnv)\n"
   ]
  },
  {
   "cell_type": "code",
   "execution_count": null,
   "metadata": {},
   "outputs": [],
   "source": []
  }
 ],
 "metadata": {
  "kernelspec": {
   "display_name": "Python 3",
   "language": "python",
   "name": "python3"
  },
  "language_info": {
   "codemirror_mode": {
    "name": "ipython",
    "version": 3
   },
   "file_extension": ".py",
   "mimetype": "text/x-python",
   "name": "python",
   "nbconvert_exporter": "python",
   "pygments_lexer": "ipython3",
   "version": "3.6.5"
  }
 },
 "nbformat": 4,
 "nbformat_minor": 2
}
